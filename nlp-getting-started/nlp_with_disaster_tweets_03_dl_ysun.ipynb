{
 "cells": [
  {
   "cell_type": "markdown",
   "metadata": {},
   "source": [
    "# Real or Not? NLP with Disaster Tweets - GloVe, RNN, LSTM\n",
    "\n",
    "[Predict which Tweets are about real disasters and which ones are not](https://www.kaggle.com/c/nlp-getting-started)\n",
    "\n",
    "_Y. Sun_"
   ]
  },
  {
   "cell_type": "code",
   "execution_count": 86,
   "metadata": {},
   "outputs": [
    {
     "name": "stdout",
     "output_type": "stream",
     "text": [
      "The autoreload extension is already loaded. To reload it, use:\n",
      "  %reload_ext autoreload\n"
     ]
    }
   ],
   "source": [
    "import numpy as np\n",
    "import pandas as pd\n",
    "import matplotlib.pyplot as plt \n",
    "\n",
    "import os\n",
    "import sys\n",
    "sys.path.insert(1, '/home/ys/github/kaggle/')\n",
    "\n",
    "from myplotter import plot_history\n",
    "\n",
    "from tqdm import tqdm\n",
    "from sklearn.model_selection import train_test_split\n",
    "\n",
    "%load_ext autoreload\n",
    "%autoreload 2\n",
    "%matplotlib inline"
   ]
  },
  {
   "cell_type": "code",
   "execution_count": 87,
   "metadata": {},
   "outputs": [
    {
     "data": {
      "text/html": [
       "<div>\n",
       "<style scoped>\n",
       "    .dataframe tbody tr th:only-of-type {\n",
       "        vertical-align: middle;\n",
       "    }\n",
       "\n",
       "    .dataframe tbody tr th {\n",
       "        vertical-align: top;\n",
       "    }\n",
       "\n",
       "    .dataframe thead th {\n",
       "        text-align: right;\n",
       "    }\n",
       "</style>\n",
       "<table border=\"1\" class=\"dataframe\">\n",
       "  <thead>\n",
       "    <tr style=\"text-align: right;\">\n",
       "      <th></th>\n",
       "      <th>id</th>\n",
       "      <th>keyword</th>\n",
       "      <th>location</th>\n",
       "      <th>text</th>\n",
       "      <th>target</th>\n",
       "    </tr>\n",
       "  </thead>\n",
       "  <tbody>\n",
       "    <tr>\n",
       "      <th>7610</th>\n",
       "      <td>10871</td>\n",
       "      <td>NaN</td>\n",
       "      <td>NaN</td>\n",
       "      <td>M1.94 [01:04 UTC]?5km S of Volcano Hawaii. htt...</td>\n",
       "      <td>1</td>\n",
       "    </tr>\n",
       "    <tr>\n",
       "      <th>7611</th>\n",
       "      <td>10872</td>\n",
       "      <td>NaN</td>\n",
       "      <td>NaN</td>\n",
       "      <td>Police investigating after an e-bike collided ...</td>\n",
       "      <td>1</td>\n",
       "    </tr>\n",
       "    <tr>\n",
       "      <th>7612</th>\n",
       "      <td>10873</td>\n",
       "      <td>NaN</td>\n",
       "      <td>NaN</td>\n",
       "      <td>The Latest: More Homes Razed by Northern Calif...</td>\n",
       "      <td>1</td>\n",
       "    </tr>\n",
       "  </tbody>\n",
       "</table>\n",
       "</div>"
      ],
      "text/plain": [
       "         id keyword location  \\\n",
       "7610  10871     NaN      NaN   \n",
       "7611  10872     NaN      NaN   \n",
       "7612  10873     NaN      NaN   \n",
       "\n",
       "                                                   text  target  \n",
       "7610  M1.94 [01:04 UTC]?5km S of Volcano Hawaii. htt...       1  \n",
       "7611  Police investigating after an e-bike collided ...       1  \n",
       "7612  The Latest: More Homes Razed by Northern Calif...       1  "
      ]
     },
     "execution_count": 87,
     "metadata": {},
     "output_type": "execute_result"
    }
   ],
   "source": [
    "# get training data\n",
    "df_train = pd.read_csv('train.csv')\n",
    "df_train.tail(3)"
   ]
  },
  {
   "cell_type": "markdown",
   "metadata": {},
   "source": [
    "## Embedding"
   ]
  },
  {
   "cell_type": "markdown",
   "metadata": {},
   "source": [
    "- Dense word vectors\n",
    "- Low-dimensioanl\n",
    "- Learn from data"
   ]
  },
  {
   "cell_type": "code",
   "execution_count": 91,
   "metadata": {},
   "outputs": [],
   "source": [
    "from tensorflow.keras.preprocessing.text import Tokenizer\n",
    "from tensorflow.keras.preprocessing.sequence import pad_sequences"
   ]
  },
  {
   "cell_type": "markdown",
   "metadata": {},
   "source": [
    "### Tokenizing the text data"
   ]
  },
  {
   "cell_type": "code",
   "execution_count": 163,
   "metadata": {},
   "outputs": [
    {
     "name": "stdout",
     "output_type": "stream",
     "text": [
      "Found 22700 unique tokens.\n",
      "Shape of data tensor: (7613, 500)\n",
      "Shape of labels tensor: (7613,)\n",
      "Shape of X_train tensor: (5329, 500)\n",
      "Shape of X_val tensor: (2284, 500)\n"
     ]
    }
   ],
   "source": [
    "# convert to np.array\n",
    "texts = df_train['text'].values\n",
    "labels = df_train['target'].values\n",
    "\n",
    "# tokenizer settings\n",
    "max_words = 10000\n",
    "maxlen = 500\n",
    "\n",
    "# tokenization\n",
    "tokenizer = Tokenizer(num_words=max_words)\n",
    "tokenizer.fit_on_texts(texts)\n",
    "sequences = tokenizer.texts_to_sequences(texts)\n",
    "\n",
    "# check word numbers in tokenization\n",
    "word_index = tokenizer.word_index\n",
    "print('Found %s unique tokens.' % len(word_index))\n",
    "\n",
    "# pad word sequences to have the same length\n",
    "data = pad_sequences(sequences, maxlen=maxlen)\n",
    "\n",
    "print('Shape of data tensor:', data.shape)\n",
    "print('Shape of labels tensor:', labels.shape)\n",
    "\n",
    "# shuffle the data \n",
    "indices = np.arange(data.shape[0])\n",
    "np.random.shuffle(indices)\n",
    "data = data[indices]\n",
    "labels = labels[indices]\n",
    "\n",
    "# split the training and validation data\n",
    "X_train, X_val, y_train, y_val = train_test_split(\n",
    "    data, labels, test_size=0.3, random_state=42) \n",
    "\n",
    "print('Shape of X_train tensor:', X_train.shape)\n",
    "print('Shape of X_val tensor:', X_val.shape)"
   ]
  },
  {
   "cell_type": "markdown",
   "metadata": {},
   "source": [
    "### GloVe word embedding file"
   ]
  },
  {
   "cell_type": "code",
   "execution_count": 106,
   "metadata": {},
   "outputs": [
    {
     "name": "stdout",
     "output_type": "stream",
     "text": [
      "Found 400000 word vectors.\n"
     ]
    }
   ],
   "source": [
    "glove_dir = '/home/ys/data/nlp-getting-started'\n",
    "\n",
    "embeddings_index = {}\n",
    "f = open(os.path.join(glove_dir, 'glove.6B.100d.txt'))\n",
    "for line in f:\n",
    "    values = line.split()\n",
    "    word = values[0]\n",
    "    coefs = np.asarray(values[1:], dtype='float32')\n",
    "    embeddings_index[word] = coefs\n",
    "f.close()\n",
    "\n",
    "print('Found %s word vectors.' % len(embeddings_index))"
   ]
  },
  {
   "cell_type": "markdown",
   "metadata": {},
   "source": [
    "### Build the embedding matrix"
   ]
  },
  {
   "cell_type": "markdown",
   "metadata": {},
   "source": [
    "The matrix must have the shape _(max_words, embeddng_dim)_ to put into an _Embedding_ layer. Note that index 0 is only a placeholder."
   ]
  },
  {
   "cell_type": "code",
   "execution_count": 107,
   "metadata": {},
   "outputs": [
    {
     "name": "stderr",
     "output_type": "stream",
     "text": [
      "100%|██████████| 18104/18104 [00:00<00:00, 301172.34it/s]\n"
     ]
    }
   ],
   "source": [
    "embedding_dim = 100\n",
    "\n",
    "embedding_matrix = np.zeros((max_words, embedding_dim))\n",
    "for word, i in tqdm(word_index.items()):\n",
    "    if i < max_words:\n",
    "        embedding_vector = embeddings_index.get(word)\n",
    "        if embedding_vector is not None:\n",
    "            embedding_matrix[i] = embedding_vector"
   ]
  },
  {
   "cell_type": "markdown",
   "metadata": {},
   "source": [
    "## Neural network model"
   ]
  },
  {
   "cell_type": "code",
   "execution_count": 111,
   "metadata": {},
   "outputs": [],
   "source": [
    "from tensorflow.keras import regularizers\n",
    "from tensorflow.keras.models import Sequential\n",
    "from tensorflow.keras.layers import Dense, Flatten, Dropout, Embedding\n",
    "from tensorflow.keras.initializers import Constant\n",
    "from tensorflow.keras.optimizers import Adam, RMSprop"
   ]
  },
  {
   "cell_type": "markdown",
   "metadata": {},
   "source": [
    "### MLP with pretrained GloVe Embedding"
   ]
  },
  {
   "cell_type": "code",
   "execution_count": 108,
   "metadata": {},
   "outputs": [
    {
     "name": "stdout",
     "output_type": "stream",
     "text": [
      "Model: \"sequential_11\"\n",
      "_________________________________________________________________\n",
      "Layer (type)                 Output Shape              Param #   \n",
      "=================================================================\n",
      "embedding_5 (Embedding)      (None, 30, 100)           1000000   \n",
      "_________________________________________________________________\n",
      "flatten_5 (Flatten)          (None, 3000)              0         \n",
      "_________________________________________________________________\n",
      "dense_20 (Dense)             (None, 32)                96032     \n",
      "_________________________________________________________________\n",
      "dense_21 (Dense)             (None, 1)                 33        \n",
      "=================================================================\n",
      "Total params: 1,096,065\n",
      "Trainable params: 96,065\n",
      "Non-trainable params: 1,000,000\n",
      "_________________________________________________________________\n"
     ]
    }
   ],
   "source": [
    "# build the model\n",
    "model = Sequential()\n",
    "model.add(Embedding(max_words, embedding_dim, input_length=maxlen))\n",
    "model.add(Flatten())\n",
    "model.add(Dense(32, activation='relu'))\n",
    "model.add(Dense(1, activation='sigmoid'))\n",
    "\n",
    "# load the pretrained Glove word embeddings into the Embedding layer\n",
    "model.layers[0].set_weights([embedding_matrix])\n",
    "# freeze the weights\n",
    "model.layers[0].trainable = False\n",
    "\n",
    "# check the model\n",
    "model.summary()"
   ]
  },
  {
   "cell_type": "code",
   "execution_count": 111,
   "metadata": {},
   "outputs": [
    {
     "name": "stdout",
     "output_type": "stream",
     "text": [
      "Train on 5329 samples, validate on 2284 samples\n",
      "Epoch 1/2\n",
      "5329/5329 [==============================] - 4s 660us/sample - loss: 0.0870 - accuracy: 0.9747 - val_loss: 1.0376 - val_accuracy: 0.7544\n",
      "Epoch 2/2\n",
      "5329/5329 [==============================] - 3s 478us/sample - loss: 0.0800 - accuracy: 0.9767 - val_loss: 1.0526 - val_accuracy: 0.7408\n"
     ]
    },
    {
     "data": {
      "image/png": "[encoded data removed]",
      "text/plain": [
       "<Figure size 720x288 with 2 Axes>"
      ]
     },
     "metadata": {
      "needs_background": "light"
     },
     "output_type": "display_data"
    }
   ],
   "source": [
    "# compile, train and save the model\n",
    "model.compile(optimizer='rmsprop', \n",
    "              loss='binary_crossentropy', \n",
    "              metrics=['accuracy'])\n",
    "history = model.fit(X_train, y_train, \n",
    "                    epochs=2,  \n",
    "                    batch_size=32,  \n",
    "                    validation_data=(X_val, y_val))\n",
    "model.save_weights('pre_trained_glove_model.h5')\n",
    "# plot loss and accuracy\n",
    "plot_history(history)"
   ]
  },
  {
   "cell_type": "markdown",
   "metadata": {},
   "source": [
    "#### *_Without pretrained word embedding_"
   ]
  },
  {
   "cell_type": "code",
   "execution_count": 116,
   "metadata": {},
   "outputs": [
    {
     "name": "stdout",
     "output_type": "stream",
     "text": [
      "Model: \"sequential_13\"\n",
      "_________________________________________________________________\n",
      "Layer (type)                 Output Shape              Param #   \n",
      "=================================================================\n",
      "embedding_6 (Embedding)      (None, 30, 100)           1000000   \n",
      "_________________________________________________________________\n",
      "flatten_6 (Flatten)          (None, 3000)              0         \n",
      "_________________________________________________________________\n",
      "dense_25 (Dense)             (None, 32)                96032     \n",
      "_________________________________________________________________\n",
      "dense_26 (Dense)             (None, 1)                 33        \n",
      "=================================================================\n",
      "Total params: 1,096,065\n",
      "Trainable params: 1,096,065\n",
      "Non-trainable params: 0\n",
      "_________________________________________________________________\n",
      "Train on 5329 samples, validate on 2284 samples\n",
      "Epoch 1/10\n",
      "5329/5329 [==============================] - 6s 1ms/sample - loss: 0.5890 - accuracy: 0.6953 - val_loss: 0.4861 - val_accuracy: 0.7719\n",
      "Epoch 2/10\n",
      "5329/5329 [==============================] - 5s 896us/sample - loss: 0.3645 - accuracy: 0.8504 - val_loss: 0.4606 - val_accuracy: 0.7907\n",
      "Epoch 3/10\n",
      "5329/5329 [==============================] - 5s 860us/sample - loss: 0.2350 - accuracy: 0.9103 - val_loss: 0.5382 - val_accuracy: 0.7588\n",
      "Epoch 4/10\n",
      "5329/5329 [==============================] - 5s 983us/sample - loss: 0.1464 - accuracy: 0.9561 - val_loss: 0.5695 - val_accuracy: 0.7754\n",
      "Epoch 5/10\n",
      "5329/5329 [==============================] - 5s 912us/sample - loss: 0.1040 - accuracy: 0.9698 - val_loss: 0.6438 - val_accuracy: 0.7500\n",
      "Epoch 6/10\n",
      "5329/5329 [==============================] - 5s 937us/sample - loss: 0.0850 - accuracy: 0.9741 - val_loss: 0.7029 - val_accuracy: 0.7299\n",
      "Epoch 7/10\n",
      "5329/5329 [==============================] - 4s 813us/sample - loss: 0.0716 - accuracy: 0.9788 - val_loss: 0.7321 - val_accuracy: 0.7391\n",
      "Epoch 8/10\n",
      "5329/5329 [==============================] - 4s 812us/sample - loss: 0.0657 - accuracy: 0.9809 - val_loss: 0.8739 - val_accuracy: 0.7176\n",
      "Epoch 9/10\n",
      "5329/5329 [==============================] - 4s 821us/sample - loss: 0.0592 - accuracy: 0.9809 - val_loss: 0.8247 - val_accuracy: 0.7255\n",
      "Epoch 10/10\n",
      "5329/5329 [==============================] - 4s 816us/sample - loss: 0.0541 - accuracy: 0.9825 - val_loss: 0.8964 - val_accuracy: 0.7229\n"
     ]
    },
    {
     "data": {
      "image/png": "[encoded data removed]",
      "text/plain": [
       "<Figure size 720x288 with 2 Axes>"
      ]
     },
     "metadata": {
      "needs_background": "light"
     },
     "output_type": "display_data"
    }
   ],
   "source": [
    "model = Sequential()\n",
    "model.add(Embedding(max_words, embedding_dim, input_length=maxlen))\n",
    "model.add(Flatten())\n",
    "model.add(Dense(32, activation='relu'))\n",
    "model.add(Dense(1, activation='sigmoid'))\n",
    "model.summary()\n",
    "model.compile(optimizer='rmsprop', \n",
    "              loss='binary_crossentropy', \n",
    "              metrics=['accuracy']) \n",
    "history = model.fit(X_train, y_train, \n",
    "                    epochs=10, \n",
    "                    batch_size=32, \n",
    "                    validation_data=(X_val, y_val))\n",
    "plot_history(history)"
   ]
  },
  {
   "cell_type": "markdown",
   "metadata": {},
   "source": [
    "### MLP with Dropout "
   ]
  },
  {
   "cell_type": "code",
   "execution_count": 115,
   "metadata": {},
   "outputs": [
    {
     "name": "stdout",
     "output_type": "stream",
     "text": [
      "Model: \"sequential_12\"\n",
      "_________________________________________________________________\n",
      "Layer (type)                 Output Shape              Param #   \n",
      "=================================================================\n",
      "dense_22 (Dense)             (None, 32)                992       \n",
      "_________________________________________________________________\n",
      "dropout_7 (Dropout)          (None, 32)                0         \n",
      "_________________________________________________________________\n",
      "dense_23 (Dense)             (None, 32)                1056      \n",
      "_________________________________________________________________\n",
      "dropout_8 (Dropout)          (None, 32)                0         \n",
      "_________________________________________________________________\n",
      "dense_24 (Dense)             (None, 1)                 33        \n",
      "=================================================================\n",
      "Total params: 2,081\n",
      "Trainable params: 2,081\n",
      "Non-trainable params: 0\n",
      "_________________________________________________________________\n",
      "Train on 5329 samples, validate on 2284 samples\n",
      "Epoch 1/10\n",
      "5329/5329 [==============================] - 2s 299us/sample - loss: 428.0807 - accuracy: 0.5159 - val_loss: 100.6389 - val_accuracy: 0.5223\n",
      "Epoch 2/10\n",
      "5329/5329 [==============================] - 0s 87us/sample - loss: 255.5588 - accuracy: 0.5237 - val_loss: 60.0751 - val_accuracy: 0.5433\n",
      "Epoch 3/10\n",
      "5329/5329 [==============================] - 0s 91us/sample - loss: 153.2513 - accuracy: 0.5384 - val_loss: 35.5586 - val_accuracy: 0.5521\n",
      "Epoch 4/10\n",
      "5329/5329 [==============================] - 0s 82us/sample - loss: 102.1942 - accuracy: 0.5134 - val_loss: 19.7475 - val_accuracy: 0.5429\n",
      "Epoch 5/10\n",
      "5329/5329 [==============================] - 1s 110us/sample - loss: 64.3586 - accuracy: 0.5108 - val_loss: 9.9426 - val_accuracy: 0.5390\n",
      "Epoch 6/10\n",
      "5329/5329 [==============================] - 0s 92us/sample - loss: 35.0800 - accuracy: 0.5052 - val_loss: 4.5049 - val_accuracy: 0.4930\n",
      "Epoch 7/10\n",
      "5329/5329 [==============================] - 0s 65us/sample - loss: 21.5658 - accuracy: 0.4992 - val_loss: 2.1409 - val_accuracy: 0.5355\n",
      "Epoch 8/10\n",
      "5329/5329 [==============================] - 0s 74us/sample - loss: 12.7897 - accuracy: 0.5196 - val_loss: 1.1241 - val_accuracy: 0.5342\n",
      "Epoch 9/10\n",
      "5329/5329 [==============================] - 0s 73us/sample - loss: 6.7767 - accuracy: 0.5279 - val_loss: 0.8554 - val_accuracy: 0.5477\n",
      "Epoch 10/10\n",
      "5329/5329 [==============================] - 0s 87us/sample - loss: 3.8753 - accuracy: 0.5389 - val_loss: 0.7791 - val_accuracy: 0.5451\n"
     ]
    },
    {
     "data": {
      "image/png": "[encoded data removed]",
      "text/plain": [
       "<Figure size 720x288 with 2 Axes>"
      ]
     },
     "metadata": {
      "needs_background": "light"
     },
     "output_type": "display_data"
    }
   ],
   "source": [
    "model = Sequential()\n",
    "model.add(Dense(32, kernel_regularizer=regularizers.l2(0.001), \n",
    "                activation='relu', input_shape=(30,)))\n",
    "model.add(Dropout(0.5))\n",
    "model.add(Dense(32, kernel_regularizer=regularizers.l2(0.001), \n",
    "                activation='relu'))\n",
    "model.add(Dropout(0.5))\n",
    "model.add(Dense(1, activation='sigmoid'))\n",
    "model.compile(optimizer='rmsprop', \n",
    "              loss='binary_crossentropy',\n",
    "              metrics=['accuracy'])\n",
    "model.summary()\n",
    "history = model.fit(X_train, y_train,\n",
    "                    batch_size=128, \n",
    "                    epochs=10, \n",
    "                    validation_data=(X_val, y_val))\n",
    "plot_history(history)"
   ]
  },
  {
   "cell_type": "markdown",
   "metadata": {},
   "source": [
    "### RNN"
   ]
  },
  {
   "cell_type": "code",
   "execution_count": null,
   "metadata": {},
   "outputs": [],
   "source": [
    "from tensorflow.keras.layers import SimpleRNN"
   ]
  },
  {
   "cell_type": "code",
   "execution_count": 107,
   "metadata": {},
   "outputs": [
    {
     "name": "stdout",
     "output_type": "stream",
     "text": [
      "Model: \"sequential_7\"\n",
      "_________________________________________________________________\n",
      "Layer (type)                 Output Shape              Param #   \n",
      "=================================================================\n",
      "embedding_6 (Embedding)      (None, None, 32)          320000    \n",
      "_________________________________________________________________\n",
      "simple_rnn_11 (SimpleRNN)    (None, None, 32)          2080      \n",
      "_________________________________________________________________\n",
      "simple_rnn_12 (SimpleRNN)    (None, 32)                2080      \n",
      "_________________________________________________________________\n",
      "dense_2 (Dense)              (None, 1)                 33        \n",
      "=================================================================\n",
      "Total params: 324,193\n",
      "Trainable params: 324,193\n",
      "Non-trainable params: 0\n",
      "_________________________________________________________________\n"
     ]
    }
   ],
   "source": [
    "model = Sequential()\n",
    "model.add(Embedding(10000, 32))\n",
    "model.add(SimpleRNN(32, return_sequences=True))\n",
    "model.add(SimpleRNN(32))\n",
    "model.add(Dense(1, activation='sigmoid'))\n",
    "model.summary()\n",
    "model.compile(optimizer='rmsprop', \n",
    "              loss='binary_crossentropy', \n",
    "              metrics=['accuracy'])\n",
    "history = model.fit(X_train, y_train,\n",
    "                    epochs=5,\n",
    "                    batch_size=128,\n",
    "                    validation_data=(X_val, y_val))\n",
    "plot_history(history)"
   ]
  },
  {
   "cell_type": "markdown",
   "metadata": {},
   "source": [
    "### LSTM"
   ]
  },
  {
   "cell_type": "code",
   "execution_count": null,
   "metadata": {},
   "outputs": [],
   "source": [
    "from tensorflow.keras.layers import LSTM"
   ]
  },
  {
   "cell_type": "code",
   "execution_count": 137,
   "metadata": {},
   "outputs": [
    {
     "name": "stdout",
     "output_type": "stream",
     "text": [
      "Model: \"sequential_15\"\n",
      "_________________________________________________________________\n",
      "Layer (type)                 Output Shape              Param #   \n",
      "=================================================================\n",
      "embedding_14 (Embedding)     (None, None, 32)          320000    \n",
      "_________________________________________________________________\n",
      "lstm_5 (LSTM)                (None, 32)                8320      \n",
      "_________________________________________________________________\n",
      "dense_10 (Dense)             (None, 1)                 33        \n",
      "=================================================================\n",
      "Total params: 328,353\n",
      "Trainable params: 328,353\n",
      "Non-trainable params: 0\n",
      "_________________________________________________________________\n"
     ]
    }
   ],
   "source": [
    "model = Sequential()\n",
    "model.add(Embedding(10000, 32))\n",
    "model.add(LSTM(32))\n",
    "model.add(Dense(1, activation='sigmoid'))\n",
    "model.compile(optimizer='rmsprop',\n",
    "              loss='binary_crossentropy',\n",
    "              metrics=['accuracy'])\n",
    "model.summary()"
   ]
  },
  {
   "cell_type": "code",
   "execution_count": 118,
   "metadata": {},
   "outputs": [
    {
     "name": "stdout",
     "output_type": "stream",
     "text": [
      "Train on 5329 samples, validate on 2284 samples\n",
      "Epoch 1/4\n",
      "5329/5329 [==============================] - 33s 6ms/sample - loss: 0.6523 - accuracy: 0.6110 - val_loss: 0.5941 - val_accuracy: 0.7154\n",
      "Epoch 2/4\n",
      "5329/5329 [==============================] - 21s 4ms/sample - loss: 0.5273 - accuracy: 0.7656 - val_loss: 0.4955 - val_accuracy: 0.7802\n",
      "Epoch 3/4\n",
      "5329/5329 [==============================] - 22s 4ms/sample - loss: 0.4033 - accuracy: 0.8452 - val_loss: 0.4537 - val_accuracy: 0.7903\n",
      "Epoch 4/4\n",
      "5329/5329 [==============================] - 22s 4ms/sample - loss: 0.3275 - accuracy: 0.8685 - val_loss: 0.4611 - val_accuracy: 0.7951\n"
     ]
    },
    {
     "data": {
      "image/png": "[encoded data removed]",
      "text/plain": [
       "<Figure size 720x288 with 2 Axes>"
      ]
     },
     "metadata": {
      "needs_background": "light"
     },
     "output_type": "display_data"
    }
   ],
   "source": [
    "history = model.fit(X_train, y_train,\n",
    "                    epochs=4,\n",
    "                    batch_size=128,\n",
    "                    validation_data=(X_val, y_val))\n",
    "plot_history(history)"
   ]
  },
  {
   "cell_type": "markdown",
   "metadata": {},
   "source": [
    "### Bidirectional RNN"
   ]
  },
  {
   "cell_type": "code",
   "execution_count": 156,
   "metadata": {},
   "outputs": [],
   "source": [
    "from tensorflow.keras.layers import Bidirectional"
   ]
  },
  {
   "cell_type": "code",
   "execution_count": 172,
   "metadata": {},
   "outputs": [
    {
     "name": "stdout",
     "output_type": "stream",
     "text": [
      "Train on 5329 samples, validate on 2284 samples\n",
      "Epoch 1/6\n",
      "5329/5329 [==============================] - 49s 9ms/sample - loss: 0.6543 - accuracy: 0.6101 - val_loss: 0.6177 - val_accuracy: 0.6616\n",
      "Epoch 2/6\n",
      "5329/5329 [==============================] - 38s 7ms/sample - loss: 0.5434 - accuracy: 0.7561 - val_loss: 0.5267 - val_accuracy: 0.7723\n",
      "Epoch 3/6\n",
      "5329/5329 [==============================] - 38s 7ms/sample - loss: 0.4268 - accuracy: 0.8302 - val_loss: 0.4727 - val_accuracy: 0.7912\n",
      "Epoch 4/6\n",
      "5329/5329 [==============================] - 39s 7ms/sample - loss: 0.3629 - accuracy: 0.8641 - val_loss: 0.4497 - val_accuracy: 0.7973\n",
      "Epoch 5/6\n",
      "5329/5329 [==============================] - 39s 7ms/sample - loss: 0.3126 - accuracy: 0.8778 - val_loss: 0.4445 - val_accuracy: 0.8104\n",
      "Epoch 6/6\n",
      "5329/5329 [==============================] - 39s 7ms/sample - loss: 0.3091 - accuracy: 0.8792 - val_loss: 0.4588 - val_accuracy: 0.8065\n"
     ]
    },
    {
     "data": {
      "image/png": "[encoded data removed]",
      "text/plain": [
       "<Figure size 720x288 with 2 Axes>"
      ]
     },
     "metadata": {
      "needs_background": "light"
     },
     "output_type": "display_data"
    }
   ],
   "source": [
    "model = Sequential()\n",
    "model.add(Embedding(max_features, 32))\n",
    "model.add(Bidirectional(LSTM(32)))\n",
    "model.add(Dense(1, activation='sigmoid'))\n",
    "model.compile(optimizer='rmsprop', loss='binary_crossentropy', metrics=['accuracy'])\n",
    "history = model.fit(X_train, y_train, epochs=6, batch_size=128, validation_data=(X_val, y_val))\n",
    "plot_history(history)"
   ]
  },
  {
   "cell_type": "markdown",
   "metadata": {},
   "source": [
    "### 1D convnet"
   ]
  },
  {
   "cell_type": "code",
   "execution_count": 181,
   "metadata": {},
   "outputs": [],
   "source": [
    "from tensorflow.keras.layers import Conv1D, MaxPooling1D, GlobalMaxPooling1D"
   ]
  },
  {
   "cell_type": "code",
   "execution_count": 192,
   "metadata": {},
   "outputs": [
    {
     "name": "stdout",
     "output_type": "stream",
     "text": [
      "Model: \"sequential_26\"\n",
      "_________________________________________________________________\n",
      "Layer (type)                 Output Shape              Param #   \n",
      "=================================================================\n",
      "embedding_23 (Embedding)     (None, 500, 128)          1280000   \n",
      "_________________________________________________________________\n",
      "conv1d_2 (Conv1D)            (None, 494, 32)           28704     \n",
      "_________________________________________________________________\n",
      "max_pooling1d_1 (MaxPooling1 (None, 98, 32)            0         \n",
      "_________________________________________________________________\n",
      "conv1d_3 (Conv1D)            (None, 92, 32)            7200      \n",
      "_________________________________________________________________\n",
      "global_max_pooling1d_1 (Glob (None, 32)                0         \n",
      "_________________________________________________________________\n",
      "dense_26 (Dense)             (None, 1)                 33        \n",
      "=================================================================\n",
      "Total params: 1,315,937\n",
      "Trainable params: 1,315,937\n",
      "Non-trainable params: 0\n",
      "_________________________________________________________________\n"
     ]
    }
   ],
   "source": [
    "model = Sequential()\n",
    "model.add(Embedding(max_features, 128, input_length=maxlen))\n",
    "model.add(Conv1D(32, 7, activation='relu'))\n",
    "model.add(MaxPooling1D(5))\n",
    "model.add(Conv1D(32, 7, activation='relu'))\n",
    "model.add(GlobalMaxPooling1D())\n",
    "model.add(Dense(1))\n",
    "model.summary()\n",
    "model.compile(optimizer=RMSprop(lr=1e-4), loss='binary_crossentropy', metrics=['accuracy'])"
   ]
  },
  {
   "cell_type": "markdown",
   "metadata": {},
   "source": [
    "#### *_plot model structure_\n",
    "\n",
    "Require install _pydot, pydot-ng_ and _graphviz_ libraries "
   ]
  },
  {
   "cell_type": "code",
   "execution_count": 197,
   "metadata": {},
   "outputs": [
    {
     "data": {
      "image/png": "[encoded data removed]",
      "text/plain": [
       "<IPython.core.display.Image object>"
      ]
     },
     "execution_count": 197,
     "metadata": {},
     "output_type": "execute_result"
    }
   ],
   "source": [
    "from tensorflow.keras.utils import plot_model\n",
    "\n",
    "plot_model(model, show_shapes=True, to_file='model.png')"
   ]
  },
  {
   "cell_type": "markdown",
   "metadata": {},
   "source": [
    "#### * _TensorBorad_"
   ]
  },
  {
   "cell_type": "code",
   "execution_count": 196,
   "metadata": {},
   "outputs": [
    {
     "name": "stdout",
     "output_type": "stream",
     "text": [
      "Train on 5329 samples, validate on 2284 samples\n",
      "Epoch 1/20\n",
      "5329/5329 [==============================] - 50s 9ms/sample - loss: 1.2596 - accuracy: 0.5791 - val_loss: 0.8188 - val_accuracy: 0.5499\n",
      "Epoch 2/20\n",
      "5329/5329 [==============================] - 38s 7ms/sample - loss: 0.7041 - accuracy: 0.5791 - val_loss: 0.6851 - val_accuracy: 0.5499\n",
      "Epoch 3/20\n",
      "5329/5329 [==============================] - 30s 6ms/sample - loss: 0.6686 - accuracy: 0.5791 - val_loss: 0.6857 - val_accuracy: 0.5499\n",
      "Epoch 4/20\n",
      "5329/5329 [==============================] - 29s 5ms/sample - loss: 0.6581 - accuracy: 0.5836 - val_loss: 0.6719 - val_accuracy: 0.5613\n",
      "Epoch 5/20\n",
      "5329/5329 [==============================] - 29s 5ms/sample - loss: 0.6453 - accuracy: 0.6039 - val_loss: 0.6651 - val_accuracy: 0.5652\n",
      "Epoch 6/20\n",
      "5329/5329 [==============================] - 29s 5ms/sample - loss: 0.6303 - accuracy: 0.6277 - val_loss: 0.6529 - val_accuracy: 0.6038\n",
      "Epoch 7/20\n",
      "5329/5329 [==============================] - 28s 5ms/sample - loss: 0.6115 - accuracy: 0.6812 - val_loss: 0.6400 - val_accuracy: 0.6300\n",
      "Epoch 8/20\n",
      "5329/5329 [==============================] - 37s 7ms/sample - loss: 0.5880 - accuracy: 0.7243 - val_loss: 0.6194 - val_accuracy: 0.6966\n",
      "Epoch 9/20\n",
      "5329/5329 [==============================] - 37s 7ms/sample - loss: 0.5582 - accuracy: 0.7714 - val_loss: 0.5966 - val_accuracy: 0.7242\n",
      "Epoch 10/20\n",
      "5329/5329 [==============================] - 42s 8ms/sample - loss: 0.5228 - accuracy: 0.8033 - val_loss: 0.5822 - val_accuracy: 0.7018\n",
      "Epoch 11/20\n",
      "5329/5329 [==============================] - 42s 8ms/sample - loss: 0.4833 - accuracy: 0.8127 - val_loss: 0.5527 - val_accuracy: 0.7544\n",
      "Epoch 12/20\n",
      "5329/5329 [==============================] - 41s 8ms/sample - loss: 0.4450 - accuracy: 0.8275 - val_loss: 0.5347 - val_accuracy: 0.7662\n",
      "Epoch 13/20\n",
      "5329/5329 [==============================] - 40s 7ms/sample - loss: 0.4121 - accuracy: 0.8375 - val_loss: 0.5415 - val_accuracy: 0.7710\n",
      "Epoch 14/20\n",
      "5329/5329 [==============================] - 35s 7ms/sample - loss: 0.3893 - accuracy: 0.8429 - val_loss: 0.5807 - val_accuracy: 0.7754\n",
      "Epoch 15/20\n",
      "5329/5329 [==============================] - 34s 6ms/sample - loss: 0.3629 - accuracy: 0.8540 - val_loss: 0.5547 - val_accuracy: 0.7776\n",
      "Epoch 16/20\n",
      "5329/5329 [==============================] - 34s 6ms/sample - loss: 0.3398 - accuracy: 0.8611 - val_loss: 0.5507 - val_accuracy: 0.7815\n",
      "Epoch 17/20\n",
      "5329/5329 [==============================] - 36s 7ms/sample - loss: 0.3220 - accuracy: 0.8713 - val_loss: 0.5629 - val_accuracy: 0.7811\n",
      "Epoch 18/20\n",
      "5329/5329 [==============================] - 39s 7ms/sample - loss: 0.3053 - accuracy: 0.8777 - val_loss: 0.6090 - val_accuracy: 0.7868\n",
      "Epoch 19/20\n",
      "5329/5329 [==============================] - 35s 7ms/sample - loss: 0.2863 - accuracy: 0.8823 - val_loss: 0.6585 - val_accuracy: 0.7846\n",
      "Epoch 20/20\n",
      "5329/5329 [==============================] - 37s 7ms/sample - loss: 0.2698 - accuracy: 0.8904 - val_loss: 0.6380 - val_accuracy: 0.7877\n"
     ]
    }
   ],
   "source": [
    "#!mkdir my_log_dir\n",
    "\n",
    "from tensorflow.keras.callbacks import TensorBoard\n",
    "\n",
    "callbacks = [\n",
    "    TensorBoard(\n",
    "        log_dir='my_log_dir', \n",
    "        histogram_freq=1, \n",
    "        embeddings_freq=1,\n",
    "    )\n",
    "]\n",
    "\n",
    "history = model.fit(X_train, y_train, \n",
    "                    epochs=20, \n",
    "                    batch_size=128, \n",
    "                    validation_data=(X_val, y_val), \n",
    "                    callbacks=callbacks)\n",
    "\n",
    "#!tensorboard --logdir=my_log_dir\n",
    "# http://localhost:6006"
   ]
  },
  {
   "cell_type": "markdown",
   "metadata": {},
   "source": [
    "### Functional API"
   ]
  },
  {
   "cell_type": "code",
   "execution_count": 189,
   "metadata": {},
   "outputs": [],
   "source": [
    "from tensorflow.keras.models import Model\n",
    "from tensorflow.keras.layers import Input"
   ]
  },
  {
   "cell_type": "code",
   "execution_count": 190,
   "metadata": {},
   "outputs": [
    {
     "name": "stdout",
     "output_type": "stream",
     "text": [
      "Model: \"model_2\"\n",
      "_________________________________________________________________\n",
      "Layer (type)                 Output Shape              Param #   \n",
      "=================================================================\n",
      "input_3 (InputLayer)         [(None, 500)]             0         \n",
      "_________________________________________________________________\n",
      "dense_23 (Dense)             (None, 32)                16032     \n",
      "_________________________________________________________________\n",
      "dense_24 (Dense)             (None, 32)                1056      \n",
      "_________________________________________________________________\n",
      "dense_25 (Dense)             (None, 1)                 33        \n",
      "=================================================================\n",
      "Total params: 17,121\n",
      "Trainable params: 17,121\n",
      "Non-trainable params: 0\n",
      "_________________________________________________________________\n"
     ]
    }
   ],
   "source": [
    "input_tensor = Input(shape=(maxlen,))\n",
    "x = Dense(32, activation='relu')(input_tensor)\n",
    "x = Dense(32, activation='relu')(x)\n",
    "output_tensor = Dense(1, activation='sigmoid')(x)\n",
    "model = Model(input_tensor, output_tensor)\n",
    "model.summary()"
   ]
  },
  {
   "cell_type": "code",
   "execution_count": 191,
   "metadata": {},
   "outputs": [
    {
     "name": "stdout",
     "output_type": "stream",
     "text": [
      "Train on 5329 samples, validate on 2284 samples\n",
      "Epoch 1/10\n",
      "5329/5329 [==============================] - 2s 329us/sample - loss: 29.3243 - accuracy: 0.5166 - val_loss: 18.0999 - val_accuracy: 0.5263\n",
      "Epoch 2/10\n",
      "5329/5329 [==============================] - 1s 107us/sample - loss: 13.6074 - accuracy: 0.5448 - val_loss: 12.9556 - val_accuracy: 0.5328\n",
      "Epoch 3/10\n",
      "5329/5329 [==============================] - 1s 130us/sample - loss: 9.5395 - accuracy: 0.5581 - val_loss: 10.4158 - val_accuracy: 0.5289\n",
      "Epoch 4/10\n",
      "5329/5329 [==============================] - 1s 164us/sample - loss: 7.2419 - accuracy: 0.5735 - val_loss: 8.8245 - val_accuracy: 0.5622\n",
      "Epoch 5/10\n",
      "5329/5329 [==============================] - 1s 156us/sample - loss: 5.7672 - accuracy: 0.5945 - val_loss: 8.8608 - val_accuracy: 0.5552\n",
      "Epoch 6/10\n",
      "5329/5329 [==============================] - 1s 150us/sample - loss: 5.1054 - accuracy: 0.6005 - val_loss: 6.8370 - val_accuracy: 0.5420\n",
      "Epoch 7/10\n",
      "5329/5329 [==============================] - 1s 97us/sample - loss: 4.3082 - accuracy: 0.6020 - val_loss: 7.6223 - val_accuracy: 0.5473\n",
      "Epoch 8/10\n",
      "5329/5329 [==============================] - 0s 94us/sample - loss: 3.9247 - accuracy: 0.6005 - val_loss: 6.5631 - val_accuracy: 0.5355\n",
      "Epoch 9/10\n",
      "5329/5329 [==============================] - 1s 150us/sample - loss: 3.5796 - accuracy: 0.6031 - val_loss: 7.7270 - val_accuracy: 0.4873\n",
      "Epoch 10/10\n",
      "5329/5329 [==============================] - 1s 153us/sample - loss: 3.2668 - accuracy: 0.6078 - val_loss: 4.9605 - val_accuracy: 0.5530\n"
     ]
    },
    {
     "data": {
      "image/png": "[encoded data removed]",
      "text/plain": [
       "<Figure size 720x288 with 2 Axes>"
      ]
     },
     "metadata": {
      "needs_background": "light"
     },
     "output_type": "display_data"
    }
   ],
   "source": [
    "model.compile(optimizer='rmsprop', loss='binary_crossentropy', metrics=['accuracy'])\n",
    "history = model.fit(X_train, y_train, epochs=10, batch_size=128, validation_data=(X_val, y_val))\n",
    "plot_history(history)"
   ]
  },
  {
   "cell_type": "markdown",
   "metadata": {},
   "source": [
    "## Prediction and submission"
   ]
  },
  {
   "cell_type": "code",
   "execution_count": 173,
   "metadata": {},
   "outputs": [
    {
     "data": {
      "text/html": [
       "<div>\n",
       "<style scoped>\n",
       "    .dataframe tbody tr th:only-of-type {\n",
       "        vertical-align: middle;\n",
       "    }\n",
       "\n",
       "    .dataframe tbody tr th {\n",
       "        vertical-align: top;\n",
       "    }\n",
       "\n",
       "    .dataframe thead th {\n",
       "        text-align: right;\n",
       "    }\n",
       "</style>\n",
       "<table border=\"1\" class=\"dataframe\">\n",
       "  <thead>\n",
       "    <tr style=\"text-align: right;\">\n",
       "      <th></th>\n",
       "      <th>id</th>\n",
       "      <th>target</th>\n",
       "    </tr>\n",
       "  </thead>\n",
       "  <tbody>\n",
       "    <tr>\n",
       "      <th>3260</th>\n",
       "      <td>10868</td>\n",
       "      <td>1</td>\n",
       "    </tr>\n",
       "    <tr>\n",
       "      <th>3261</th>\n",
       "      <td>10874</td>\n",
       "      <td>1</td>\n",
       "    </tr>\n",
       "    <tr>\n",
       "      <th>3262</th>\n",
       "      <td>10875</td>\n",
       "      <td>1</td>\n",
       "    </tr>\n",
       "  </tbody>\n",
       "</table>\n",
       "</div>"
      ],
      "text/plain": [
       "         id  target\n",
       "3260  10868       1\n",
       "3261  10874       1\n",
       "3262  10875       1"
      ]
     },
     "execution_count": 173,
     "metadata": {},
     "output_type": "execute_result"
    }
   ],
   "source": [
    "# get test data\n",
    "df_test = pd.read_csv('test.csv')\n",
    "\n",
    "# tokenizing the test data\n",
    "texts = df_test['text'].values\n",
    "sequences = tokenizer.texts_to_sequences(texts)\n",
    "X_test = pad_sequences(sequences, maxlen=maxlen)\n",
    "\n",
    "# predict\n",
    "y_pred = model.predict(X_test)\n",
    "\n",
    "# save sumission file\n",
    "df_sub = pd.read_csv('sample_submission.csv')\n",
    "df_sub['target'] = np.round(y_pred.squeeze()).astype(int)\n",
    "df_sub.to_csv('submission.csv', index=False)\n",
    "df_sub.tail(3)"
   ]
  },
  {
   "cell_type": "code",
   "execution_count": 174,
   "metadata": {},
   "outputs": [
    {
     "name": "stdout",
     "output_type": "stream",
     "text": [
      "100%|██████████████████████████████████████| 22.2k/22.2k [00:04<00:00, 5.32kB/s]\n",
      "Successfully submitted to Real or Not? NLP with Disaster Tweets"
     ]
    }
   ],
   "source": [
    "# submit\n",
    "!kaggle competitions submit -c nlp-getting-started -f submission.csv -m 'Bi-LSTM'"
   ]
  },
  {
   "cell_type": "code",
   "execution_count": 175,
   "metadata": {},
   "outputs": [
    {
     "name": "stdout",
     "output_type": "stream",
     "text": [
      "fileName        date                 description  status    publicScore  privateScore  \r\n",
      "--------------  -------------------  -----------  --------  -----------  ------------  \r\n",
      "submission.csv  2020-04-16 09:34:37  Bi-LSTM      complete  0.80777      None          \r\n",
      "submission.csv  2020-04-16 09:23:21  Bi-LSTM      complete  0.79243      None          \r\n",
      "submission.csv  2020-04-15 06:13:04  lstm         complete  0.79959      None          \r\n",
      "submission.csv  2020-04-15 06:07:04  lstm         complete  0.79243      None          \r\n",
      "submission.csv  2020-04-14 21:38:17  ys02         complete  0.74642      None          \r\n",
      "submission.csv  2020-04-14 20:14:59  ys01         complete  0.75766      None          \r\n",
      "submission.csv  2020-04-13 18:36:26  ys03         complete  0.68609      None          \r\n",
      "submission.csv  2020-04-13 18:22:49  ys02         complete  0.70961      None          \r\n",
      "submission.csv  2020-04-13 18:15:35  ys02         complete  0.70961      None          \r\n",
      "submission.csv  2020-04-13 13:12:22  ys01         complete  0.76891      None          \r\n",
      "submission.csv  2020-04-09 18:22:16  xgboost      complete  0.68916      None          \r\n",
      "submission.csv  2020-04-06 18:53:51  ys02         complete  0.67280      None          \r\n",
      "submission.csv  2020-04-06 17:46:16  ys01         complete  0.66053      None          \r\n",
      "submission.csv  2020-04-05 13:20:07  ys01         complete  0.71267      None          \r\n",
      "submission.csv  2020-04-04 22:23:58  ys01         complete  0.71472      None          \r\n",
      "submission.csv  2020-04-04 08:59:33  ys02         complete  0.70347      None          \r\n",
      "submission.csv  2020-04-04 06:18:21  ys01         complete  0.70347      None          \r\n",
      "submission.csv  2020-03-31 22:57:29  ys02         complete  0.78220      None          \r\n",
      "submission.csv  2020-03-31 22:49:47  ys01         complete  0.76584      None          \r\n",
      "submission.csv  2020-03-30 22:33:41  ys02         complete  0.79141      None          \r\n"
     ]
    }
   ],
   "source": [
    "# score\n",
    "!kaggle competitions submissions -c nlp-getting-started"
   ]
  }
 ],
 "metadata": {
  "kernelspec": {
   "display_name": "Python 3",
   "language": "python",
   "name": "python3"
  },
  "language_info": {
   "codemirror_mode": {
    "name": "ipython",
    "version": 3
   },
   "file_extension": ".py",
   "mimetype": "text/x-python",
   "name": "python",
   "nbconvert_exporter": "python",
   "pygments_lexer": "ipython3",
   "version": "3.7.3"
  }
 },
 "nbformat": 4,
 "nbformat_minor": 2
}
