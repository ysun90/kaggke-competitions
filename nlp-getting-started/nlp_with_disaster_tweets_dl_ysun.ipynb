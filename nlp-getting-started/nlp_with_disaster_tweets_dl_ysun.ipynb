{
 "cells": [
  {
   "cell_type": "markdown",
   "metadata": {},
   "source": [
    "# Real or Not? NLP with Disaster Tweets - GloVe\n",
    "\n",
    "[Predict which Tweets are about real disasters and which ones are not](https://www.kaggle.com/c/nlp-getting-started)\n",
    "\n",
    "_Y. Sun_"
   ]
  },
  {
   "cell_type": "code",
   "execution_count": 94,
   "metadata": {},
   "outputs": [],
   "source": [
    "import numpy as np\n",
    "import pandas as pd\n",
    "import matplotlib.pyplot as plt \n",
    "\n",
    "import os\n",
    "import sys\n",
    "sys.path.insert(1, '/home/ys/github/kaggle/')\n",
    "\n",
    "from myplotter import plot_history\n",
    "from tqdm import tqdm\n",
    "from sklearn.model_selection import train_test_split\n",
    "\n",
    "%load_ext autoreload\n",
    "%autoreload 2\n",
    "%matplotlib inline"
   ]
  },
  {
   "cell_type": "code",
   "execution_count": 89,
   "metadata": {},
   "outputs": [
    {
     "data": {
      "text/html": [
       "<div>\n",
       "<style scoped>\n",
       "    .dataframe tbody tr th:only-of-type {\n",
       "        vertical-align: middle;\n",
       "    }\n",
       "\n",
       "    .dataframe tbody tr th {\n",
       "        vertical-align: top;\n",
       "    }\n",
       "\n",
       "    .dataframe thead th {\n",
       "        text-align: right;\n",
       "    }\n",
       "</style>\n",
       "<table border=\"1\" class=\"dataframe\">\n",
       "  <thead>\n",
       "    <tr style=\"text-align: right;\">\n",
       "      <th></th>\n",
       "      <th>id</th>\n",
       "      <th>keyword</th>\n",
       "      <th>location</th>\n",
       "      <th>text</th>\n",
       "      <th>target</th>\n",
       "    </tr>\n",
       "  </thead>\n",
       "  <tbody>\n",
       "    <tr>\n",
       "      <th>7610</th>\n",
       "      <td>10871</td>\n",
       "      <td>NaN</td>\n",
       "      <td>NaN</td>\n",
       "      <td>M1.94 [01:04 UTC]?5km S of Volcano Hawaii. htt...</td>\n",
       "      <td>1</td>\n",
       "    </tr>\n",
       "    <tr>\n",
       "      <th>7611</th>\n",
       "      <td>10872</td>\n",
       "      <td>NaN</td>\n",
       "      <td>NaN</td>\n",
       "      <td>Police investigating after an e-bike collided ...</td>\n",
       "      <td>1</td>\n",
       "    </tr>\n",
       "    <tr>\n",
       "      <th>7612</th>\n",
       "      <td>10873</td>\n",
       "      <td>NaN</td>\n",
       "      <td>NaN</td>\n",
       "      <td>The Latest: More Homes Razed by Northern Calif...</td>\n",
       "      <td>1</td>\n",
       "    </tr>\n",
       "  </tbody>\n",
       "</table>\n",
       "</div>"
      ],
      "text/plain": [
       "         id keyword location  \\\n",
       "7610  10871     NaN      NaN   \n",
       "7611  10872     NaN      NaN   \n",
       "7612  10873     NaN      NaN   \n",
       "\n",
       "                                                   text  target  \n",
       "7610  M1.94 [01:04 UTC]?5km S of Volcano Hawaii. htt...       1  \n",
       "7611  Police investigating after an e-bike collided ...       1  \n",
       "7612  The Latest: More Homes Razed by Northern Calif...       1  "
      ]
     },
     "execution_count": 89,
     "metadata": {},
     "output_type": "execute_result"
    }
   ],
   "source": [
    "# training data\n",
    "df_train = pd.read_csv('train.csv')\n",
    "df_train.tail(3)"
   ]
  },
  {
   "cell_type": "markdown",
   "metadata": {},
   "source": [
    "## Embedding"
   ]
  },
  {
   "cell_type": "markdown",
   "metadata": {},
   "source": [
    "- Dense word vectors\n",
    "- Low-dimensioanl\n",
    "- Learn from data"
   ]
  },
  {
   "cell_type": "code",
   "execution_count": 13,
   "metadata": {},
   "outputs": [],
   "source": [
    "from tensorflow.keras.preprocessing.text import Tokenizer\n",
    "from tensorflow.keras.preprocessing.sequence import pad_sequences"
   ]
  },
  {
   "cell_type": "markdown",
   "metadata": {},
   "source": [
    "### Tokenizing the text data"
   ]
  },
  {
   "cell_type": "code",
   "execution_count": 30,
   "metadata": {},
   "outputs": [
    {
     "name": "stdout",
     "output_type": "stream",
     "text": [
      "Found 22700 unique tokens.\n",
      "Shape of data tensor: (7613, 30)\n",
      "Shape of label tensor: (7613,)\n",
      "Shape of X_train tensor: (5329, 30)\n",
      "Shape of X_val tensor: (2284, 30)\n"
     ]
    }
   ],
   "source": [
    "# convert to np.array\n",
    "texts = df_train['text'].values\n",
    "labels = df_train['target'].values\n",
    "\n",
    "# tokenizer settings\n",
    "max_words = 10000\n",
    "maxlen = 30\n",
    "\n",
    "# tokenization\n",
    "tokenizer = Tokenizer(num_words=max_words)\n",
    "tokenizer.fit_on_texts(texts)\n",
    "sequences = tokenizer.texts_to_sequences(texts)\n",
    "\n",
    "# check word numbers in tokenization\n",
    "word_index = tokenizer.word_index\n",
    "print('Found %s unique tokens.' % len(word_index))\n",
    "\n",
    "# pad word sequences to have the same length\n",
    "data = pad_sequences(sequences, maxlen=maxlen)\n",
    "\n",
    "print('Shape of data tensor:', data.shape)\n",
    "print('Shape of labels tensor:', labels.shape)\n",
    "\n",
    "# shuffle the data \n",
    "indices = np.arange(data.shape[0])\n",
    "np.random.shuffle(indices)\n",
    "data = data[indices]\n",
    "labels = labels[indices]\n",
    "\n",
    "# split the training and validation data\n",
    "X_train, X_val, y_train, y_val = train_test_split(\n",
    "    data, labels, test_size=0.3, random_state=42) \n",
    "\n",
    "print('Shape of X_train tensor:', X_train.shape)\n",
    "print('Shape of X_val tensor:', X_val.shape)"
   ]
  },
  {
   "cell_type": "markdown",
   "metadata": {},
   "source": [
    "### GloVe word embedding file"
   ]
  },
  {
   "cell_type": "code",
   "execution_count": 33,
   "metadata": {},
   "outputs": [
    {
     "name": "stdout",
     "output_type": "stream",
     "text": [
      "Found 400000 word vectors.\n"
     ]
    }
   ],
   "source": [
    "glove_dir = '/home/ys/data/nlp-getting-started'\n",
    "\n",
    "embeddings_index = {}\n",
    "f = open(os.path.join(glove_dir, 'glove.6B.100d.txt'))\n",
    "for line in f:\n",
    "    values = line.split()\n",
    "    word = values[0]\n",
    "    coefs = np.asarray(values[1:], dtype='float32')\n",
    "    embeddings_index[word] = coefs\n",
    "f.close()\n",
    "\n",
    "print('Found %s word vectors.' % len(embeddings_index))"
   ]
  },
  {
   "cell_type": "markdown",
   "metadata": {},
   "source": [
    "### Build the embedding matrix"
   ]
  },
  {
   "cell_type": "markdown",
   "metadata": {},
   "source": [
    "The matrix must have the shape _(max_words, embeddng_dim)_ to put into an _Embedding_ layer. Note that index 0 is only a placeholder."
   ]
  },
  {
   "cell_type": "code",
   "execution_count": 48,
   "metadata": {},
   "outputs": [
    {
     "name": "stderr",
     "output_type": "stream",
     "text": [
      "100%|██████████| 22700/22700 [00:00<00:00, 414080.19it/s]\n"
     ]
    }
   ],
   "source": [
    "embedding_dim = 100\n",
    "\n",
    "embedding_matrix = np.zeros((max_words, embedding_dim))\n",
    "for word, i in tqdm(word_index.items()):\n",
    "    if i < max_words:\n",
    "        embedding_vector = embeddings_index.get(word)\n",
    "        if embedding_vector is not None:\n",
    "            embedding_matrix[i] = embedding_vector"
   ]
  },
  {
   "cell_type": "markdown",
   "metadata": {},
   "source": [
    "## Neural network model"
   ]
  },
  {
   "cell_type": "code",
   "execution_count": 53,
   "metadata": {},
   "outputs": [],
   "source": [
    "from tensorflow.keras import regularizers\n",
    "from tensorflow.keras.models import Sequential\n",
    "from tensorflow.keras.layers import Embedding, LSTM, Dense, Flatten, Dropout, SpatialDropout1D\n",
    "from tensorflow.keras.initializers import Constant\n",
    "from tensorflow.keras.optimizers import Adam"
   ]
  },
  {
   "cell_type": "markdown",
   "metadata": {},
   "source": [
    "### Embedding layer with pretrained Glove"
   ]
  },
  {
   "cell_type": "code",
   "execution_count": 54,
   "metadata": {},
   "outputs": [
    {
     "name": "stdout",
     "output_type": "stream",
     "text": [
      "Model: \"sequential\"\n",
      "_________________________________________________________________\n",
      "Layer (type)                 Output Shape              Param #   \n",
      "=================================================================\n",
      "embedding (Embedding)        (None, 30, 100)           1000000   \n",
      "_________________________________________________________________\n",
      "flatten (Flatten)            (None, 3000)              0         \n",
      "_________________________________________________________________\n",
      "dense (Dense)                (None, 32)                96032     \n",
      "_________________________________________________________________\n",
      "dense_1 (Dense)              (None, 1)                 33        \n",
      "=================================================================\n",
      "Total params: 1,096,065\n",
      "Trainable params: 1,096,065\n",
      "Non-trainable params: 0\n",
      "_________________________________________________________________\n"
     ]
    }
   ],
   "source": [
    "# build the model\n",
    "model = Sequential()\n",
    "model.add(Embedding(max_words, embedding_dim, input_length=maxlen))\n",
    "model.add(Flatten())\n",
    "model.add(Dense(32, activation='relu'))\n",
    "model.add(Dense(1, activation='sigmoid'))\n",
    "\n",
    "# load the pretrained Glove word embeddings into the Embedding layer\n",
    "model.layers[0].set_weights([embedding_matrix])\n",
    "# freeze the weights\n",
    "model.layers[0].trainable = False\n",
    "\n",
    "# check the model\n",
    "model.summary()"
   ]
  },
  {
   "cell_type": "code",
   "execution_count": 63,
   "metadata": {},
   "outputs": [
    {
     "name": "stdout",
     "output_type": "stream",
     "text": [
      "Train on 5329 samples, validate on 2284 samples\n",
      "Epoch 1/10\n",
      "5329/5329 [==============================] - 4s 658us/sample - loss: 0.0988 - accuracy: 0.9700 - val_loss: 0.8093 - val_accuracy: 0.7561\n",
      "Epoch 2/10\n",
      "5329/5329 [==============================] - 3s 508us/sample - loss: 0.0875 - accuracy: 0.9758 - val_loss: 0.8883 - val_accuracy: 0.7539\n",
      "Epoch 3/10\n",
      "5329/5329 [==============================] - 3s 613us/sample - loss: 0.0832 - accuracy: 0.9767 - val_loss: 0.8646 - val_accuracy: 0.7570\n",
      "Epoch 4/10\n",
      "5329/5329 [==============================] - 2s 443us/sample - loss: 0.0753 - accuracy: 0.9775 - val_loss: 0.9949 - val_accuracy: 0.7412\n",
      "Epoch 5/10\n",
      "5329/5329 [==============================] - 3s 506us/sample - loss: 0.0727 - accuracy: 0.9780 - val_loss: 0.9776 - val_accuracy: 0.7561\n",
      "Epoch 6/10\n",
      "5329/5329 [==============================] - 2s 448us/sample - loss: 0.0692 - accuracy: 0.9799 - val_loss: 0.9628 - val_accuracy: 0.7592\n",
      "Epoch 7/10\n",
      "5329/5329 [==============================] - 2s 410us/sample - loss: 0.0655 - accuracy: 0.9799 - val_loss: 0.9763 - val_accuracy: 0.7570\n",
      "Epoch 8/10\n",
      "5329/5329 [==============================] - 2s 431us/sample - loss: 0.0654 - accuracy: 0.9799 - val_loss: 1.0672 - val_accuracy: 0.7614\n",
      "Epoch 9/10\n",
      "5329/5329 [==============================] - 2s 390us/sample - loss: 0.0616 - accuracy: 0.9795 - val_loss: 1.0310 - val_accuracy: 0.7482\n",
      "Epoch 10/10\n",
      "5329/5329 [==============================] - 2s 430us/sample - loss: 0.0659 - accuracy: 0.9807 - val_loss: 1.0329 - val_accuracy: 0.7535\n"
     ]
    }
   ],
   "source": [
    "# compile, train and save the model\n",
    "model.compile(optimizer='rmsprop', \n",
    "              loss='binary_crossentropy', \n",
    "              metrics=['accuracy'])\n",
    "history = model.fit(X_train, y_train, \n",
    "                    epochs=10,  \n",
    "                    batch_size=32,  \n",
    "                    validation_data=(X_val, y_val))\n",
    "model.save_weights('pre_trained_glove_model.h5')"
   ]
  },
  {
   "cell_type": "code",
   "execution_count": 95,
   "metadata": {},
   "outputs": [
    {
     "data": {
      "image/png": "[encoded data removed]",
      "text/plain": [
       "<Figure size 720x288 with 2 Axes>"
      ]
     },
     "metadata": {
      "needs_background": "light"
     },
     "output_type": "display_data"
    }
   ],
   "source": [
    "# plot loss and accuracy\n",
    "plot_history(history)"
   ]
  },
  {
   "cell_type": "markdown",
   "metadata": {},
   "source": [
    "#### *_Without pretrained word embeddings_"
   ]
  },
  {
   "cell_type": "code",
   "execution_count": 70,
   "metadata": {},
   "outputs": [
    {
     "name": "stdout",
     "output_type": "stream",
     "text": [
      "Model: \"sequential_3\"\n",
      "_________________________________________________________________\n",
      "Layer (type)                 Output Shape              Param #   \n",
      "=================================================================\n",
      "embedding_3 (Embedding)      (None, 30, 100)           1000000   \n",
      "_________________________________________________________________\n",
      "flatten_3 (Flatten)          (None, 3000)              0         \n",
      "_________________________________________________________________\n",
      "dense_6 (Dense)              (None, 32)                96032     \n",
      "_________________________________________________________________\n",
      "dense_7 (Dense)              (None, 1)                 33        \n",
      "=================================================================\n",
      "Total params: 1,096,065\n",
      "Trainable params: 1,096,065\n",
      "Non-trainable params: 0\n",
      "_________________________________________________________________\n",
      "Train on 5329 samples, validate on 2284 samples\n",
      "Epoch 1/5\n",
      "5329/5329 [==============================] - 5s 1ms/sample - loss: 0.5862 - accuracy: 0.6906 - val_loss: 0.5362 - val_accuracy: 0.7233\n",
      "Epoch 2/5\n",
      "5329/5329 [==============================] - 5s 940us/sample - loss: 0.3687 - accuracy: 0.8469 - val_loss: 0.4711 - val_accuracy: 0.7793\n",
      "Epoch 3/5\n",
      "5329/5329 [==============================] - 5s 928us/sample - loss: 0.2340 - accuracy: 0.9124 - val_loss: 0.5029 - val_accuracy: 0.7951\n",
      "Epoch 4/5\n",
      "5329/5329 [==============================] - 5s 938us/sample - loss: 0.1405 - accuracy: 0.9568 - val_loss: 0.5907 - val_accuracy: 0.7649\n",
      "Epoch 5/5\n",
      "5329/5329 [==============================] - 5s 856us/sample - loss: 0.0924 - accuracy: 0.9724 - val_loss: 0.6478 - val_accuracy: 0.7675\n"
     ]
    },
    {
     "data": {
      "image/png": "[encoded data removed]",
      "text/plain": [
       "<Figure size 864x360 with 2 Axes>"
      ]
     },
     "metadata": {
      "needs_background": "light"
     },
     "output_type": "display_data"
    }
   ],
   "source": [
    "model = Sequential()\n",
    "model.add(Embedding(max_words, embedding_dim, input_length=maxlen))\n",
    "model.add(Flatten())\n",
    "model.add(Dense(32, activation='relu'))\n",
    "model.add(Dense(1, activation='sigmoid'))\n",
    "model.summary()\n",
    "model.compile(optimizer='rmsprop', \n",
    "              loss='binary_crossentropy', \n",
    "              metrics=['accuracy']) \n",
    "history = model.fit(X_train, y_train, \n",
    "                    epochs=5, \n",
    "                    batch_size=32, \n",
    "                    validation_data=(X_val, y_val))\n",
    "plot_history(history)"
   ]
  },
  {
   "cell_type": "markdown",
   "metadata": {},
   "source": [
    "### Dropout layer"
   ]
  },
  {
   "cell_type": "code",
   "execution_count": 84,
   "metadata": {},
   "outputs": [
    {
     "name": "stdout",
     "output_type": "stream",
     "text": [
      "Train on 5329 samples, validate on 2284 samples\n",
      "Epoch 1/10\n",
      "5329/5329 [==============================] - 2s 349us/sample - loss: 364.0599 - accuracy: 0.5181 - val_loss: 79.6956 - val_accuracy: 0.5219\n",
      "Epoch 2/10\n",
      "5329/5329 [==============================] - 0s 66us/sample - loss: 228.9443 - accuracy: 0.5076 - val_loss: 50.5051 - val_accuracy: 0.5525\n",
      "Epoch 3/10\n",
      "5329/5329 [==============================] - 0s 70us/sample - loss: 144.2100 - accuracy: 0.5091 - val_loss: 27.5316 - val_accuracy: 0.5530\n",
      "Epoch 4/10\n",
      "5329/5329 [==============================] - 0s 62us/sample - loss: 87.5812 - accuracy: 0.5179 - val_loss: 15.4057 - val_accuracy: 0.5539\n",
      "Epoch 5/10\n",
      "5329/5329 [==============================] - 0s 68us/sample - loss: 50.9109 - accuracy: 0.5267 - val_loss: 8.2021 - val_accuracy: 0.5530\n",
      "Epoch 6/10\n",
      "5329/5329 [==============================] - 0s 60us/sample - loss: 27.9175 - accuracy: 0.5162 - val_loss: 3.7210 - val_accuracy: 0.5250\n",
      "Epoch 7/10\n",
      "5329/5329 [==============================] - 0s 64us/sample - loss: 13.6925 - accuracy: 0.5281 - val_loss: 1.5845 - val_accuracy: 0.5039\n",
      "Epoch 8/10\n",
      "5329/5329 [==============================] - 0s 92us/sample - loss: 7.1382 - accuracy: 0.5185 - val_loss: 0.9299 - val_accuracy: 0.5127\n",
      "Epoch 9/10\n",
      "5329/5329 [==============================] - 0s 65us/sample - loss: 3.2718 - accuracy: 0.5181 - val_loss: 0.8053 - val_accuracy: 0.5792\n",
      "Epoch 10/10\n",
      "5329/5329 [==============================] - 0s 69us/sample - loss: 2.2282 - accuracy: 0.5185 - val_loss: 0.7727 - val_accuracy: 0.4952\n"
     ]
    },
    {
     "data": {
      "image/png": "[encoded data removed]",
      "text/plain": [
       "<Figure size 864x360 with 2 Axes>"
      ]
     },
     "metadata": {
      "needs_background": "light"
     },
     "output_type": "display_data"
    }
   ],
   "source": [
    "model = Sequential()\n",
    "model.add(Dense(32, kernel_regularizer=regularizers.l2(0.001), \n",
    "                activation='relu', input_shape=(30,)))\n",
    "model.add(Dropout(0.5))\n",
    "model.add(Dense(32, kernel_regularizer=regularizers.l2(0.001), \n",
    "                activation='relu'))\n",
    "model.add(Dropout(0.5))\n",
    "model.add(Dense(1, activation='sigmoid'))\n",
    "model.compile(optimizer='rmsprop', \n",
    "                loss='binary_crossentropy',\n",
    "                metrics=['accuracy'])\n",
    "model.summary()\n",
    "history = model.fit(X_train, y_train,\n",
    "                    batch_size=128, \n",
    "                    epochs=10, \n",
    "                    validation_data=(X_val, y_val))\n",
    "plot_history(history)"
   ]
  },
  {
   "cell_type": "markdown",
   "metadata": {},
   "source": [
    "## Prediction and submission"
   ]
  },
  {
   "cell_type": "code",
   "execution_count": 86,
   "metadata": {},
   "outputs": [
    {
     "data": {
      "text/html": [
       "<div>\n",
       "<style scoped>\n",
       "    .dataframe tbody tr th:only-of-type {\n",
       "        vertical-align: middle;\n",
       "    }\n",
       "\n",
       "    .dataframe tbody tr th {\n",
       "        vertical-align: top;\n",
       "    }\n",
       "\n",
       "    .dataframe thead th {\n",
       "        text-align: right;\n",
       "    }\n",
       "</style>\n",
       "<table border=\"1\" class=\"dataframe\">\n",
       "  <thead>\n",
       "    <tr style=\"text-align: right;\">\n",
       "      <th></th>\n",
       "      <th>id</th>\n",
       "      <th>target</th>\n",
       "    </tr>\n",
       "  </thead>\n",
       "  <tbody>\n",
       "    <tr>\n",
       "      <th>3260</th>\n",
       "      <td>10868</td>\n",
       "      <td>0</td>\n",
       "    </tr>\n",
       "    <tr>\n",
       "      <th>3261</th>\n",
       "      <td>10874</td>\n",
       "      <td>1</td>\n",
       "    </tr>\n",
       "    <tr>\n",
       "      <th>3262</th>\n",
       "      <td>10875</td>\n",
       "      <td>1</td>\n",
       "    </tr>\n",
       "  </tbody>\n",
       "</table>\n",
       "</div>"
      ],
      "text/plain": [
       "         id  target\n",
       "3260  10868       0\n",
       "3261  10874       1\n",
       "3262  10875       1"
      ]
     },
     "execution_count": 86,
     "metadata": {},
     "output_type": "execute_result"
    }
   ],
   "source": [
    "# get test data\n",
    "df_test = pd.read_csv('test.csv')\n",
    "\n",
    "# tokenizing the test data\n",
    "texts = df_test['text'].values\n",
    "sequences = tokenizer.texts_to_sequences(texts)\n",
    "X_test = pad_sequences(sequences, maxlen=maxlen)\n",
    "\n",
    "# predict\n",
    "y_pred = model.predict(X_test)\n",
    "\n",
    "# save sumission file\n",
    "df_sub = pd.read_csv('sample_submission.csv')\n",
    "df_sub['target'] = np.round(y_pred.squeeze()).astype(int)\n",
    "df_sub.to_csv('submission.csv', index=False)\n",
    "df_sub.tail(3)"
   ]
  },
  {
   "cell_type": "code",
   "execution_count": 77,
   "metadata": {},
   "outputs": [
    {
     "name": "stdout",
     "output_type": "stream",
     "text": [
      "100%|██████████████████████████████████████| 22.2k/22.2k [00:05<00:00, 4.28kB/s]\n",
      "Successfully submitted to Real or Not? NLP with Disaster Tweets"
     ]
    }
   ],
   "source": [
    "# submit\n",
    "!kaggle competitions submit -c nlp-getting-started -f submission.csv -m 'ys01'"
   ]
  },
  {
   "cell_type": "code",
   "execution_count": 85,
   "metadata": {},
   "outputs": [
    {
     "name": "stdout",
     "output_type": "stream",
     "text": [
      "fileName        date                 description           status    publicScore  privateScore  \r\n",
      "--------------  -------------------  --------------------  --------  -----------  ------------  \r\n",
      "submission.csv  2020-04-13 13:12:22  ys01                  complete  0.76891      None          \r\n",
      "submission.csv  2020-04-09 18:22:16  xgboost               complete  0.68916      None          \r\n",
      "submission.csv  2020-04-06 18:53:51  ys02                  complete  0.67280      None          \r\n",
      "submission.csv  2020-04-06 17:46:16  ys01                  complete  0.66053      None          \r\n",
      "submission.csv  2020-04-05 13:20:07  ys01                  complete  0.71267      None          \r\n",
      "submission.csv  2020-04-04 22:23:58  ys01                  complete  0.71472      None          \r\n",
      "submission.csv  2020-04-04 08:59:33  ys02                  complete  0.70347      None          \r\n",
      "submission.csv  2020-04-04 06:18:21  ys01                  complete  0.70347      None          \r\n",
      "submission.csv  2020-03-31 22:57:29  ys02                  complete  0.78220      None          \r\n",
      "submission.csv  2020-03-31 22:49:47  ys01                  complete  0.76584      None          \r\n",
      "submission.csv  2020-03-30 22:33:41  ys02                  complete  0.79141      None          \r\n",
      "submission.csv  2020-03-30 21:01:21  ys01                  complete  0.78732      None          \r\n",
      "submission.csv  2020-03-23 12:27:31  ys-20200323-4         complete  0.78220      None          \r\n",
      "submission.csv  2020-03-23 08:59:13  ys-20200323-3         complete  0.78732      None          \r\n",
      "submission.csv  2020-03-23 02:05:32  ys-20200323-2         complete  0.79243      None          \r\n",
      "submission.csv  2020-03-23 01:53:34  ys-20200323           complete  0.77402      None          \r\n",
      "submission.csv  2020-03-02 18:41:51  sub-yaun-20200302-03  complete  0.73006      None          \r\n",
      "submission.csv  2020-03-02 18:32:05  sub-yaun-20200302-02  complete  0.67586      None          \r\n",
      "submission.csv  2020-03-02 18:26:13  ysun-20200302-01      complete  0.00000      None          \r\n",
      "submission.csv  2020-02-27 20:30:31  sub-ysun-20200227-02  complete  0.77505      None          \r\n"
     ]
    }
   ],
   "source": [
    "# score\n",
    "!kaggle competitions submissions -c nlp-getting-started"
   ]
  }
 ],
 "metadata": {
  "kernelspec": {
   "display_name": "Python 3",
   "language": "python",
   "name": "python3"
  },
  "language_info": {
   "codemirror_mode": {
    "name": "ipython",
    "version": 3
   },
   "file_extension": ".py",
   "mimetype": "text/x-python",
   "name": "python",
   "nbconvert_exporter": "python",
   "pygments_lexer": "ipython3",
   "version": "3.7.3"
  }
 },
 "nbformat": 4,
 "nbformat_minor": 2
}
